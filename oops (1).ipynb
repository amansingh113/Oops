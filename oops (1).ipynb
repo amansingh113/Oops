{
  "nbformat": 4,
  "nbformat_minor": 0,
  "metadata": {
    "colab": {
      "provenance": []
    },
    "kernelspec": {
      "name": "python3",
      "display_name": "Python 3"
    },
    "language_info": {
      "name": "python"
    }
  },
  "cells": [
    {
      "cell_type": "markdown",
      "source": [
        "Oops\n",
        "\n",
        "1.  What is Object-Oriented Programming (OOP)?\n",
        "\n",
        "    -Object-Oriented Programming (OOP) is a programming paradigm based on the concept of objects, which encapsulate data and behavior. It is designed to model real-world entities and their interactions in a structured and reusable way.\n",
        "\n",
        "2. What is a class in OOP?\n",
        "\n",
        "    -A class in Object-Oriented Programming (OOP) is a blueprint or template for creating objects. It defines the attributes (data) and behaviors (methods/functions) that objects of that class will have.\n",
        "\n",
        "3. What is an object in OOP?\n",
        "\n",
        "    -An object in Object-Oriented Programming (OOP) is an instance of a class. It represents a real-world entity with specific attributes (data) and behaviors (methods). Objects allow us to use the blueprint (class) to create multiple independent entities that interact with each other.\n",
        "\n",
        "4. What is the difference between abstraction and encapsulation?\n",
        "\n",
        "    -The difference between abstraction and encapsulation are :-\n",
        "\n",
        "   Abstraction\n",
        "\n",
        "    . Hide complex implementation detail and only show the necessary    \n",
        "    function.   \n",
        "    . To simplif and reduce complexity by exposing only essential features.\n",
        "    . Achieved using abstract classes and interfaces.    \n",
        "                             \n",
        "   Encapsulation\n",
        "\n",
        "    . Hide the data by restricting direct access and controlling it through methods .\n",
        "    . To protect data from uninteded modification.\n",
        "    . Achieved using private , protected,and public access modifier.\n",
        "\n",
        "5. What are dunder methods in Python?\n",
        "\n",
        "    -Dunder methods, also known as magic methods or special methods, are built-in methods in Python that start and end with double underscores.These methods enable objects to interact with built-in Python operations like initialization, string representation, arithmetic operations, and comparisons.\n",
        "\n",
        "6.  Explain the concept of inheritance in OOP?\n",
        "\n",
        "    -Inheritance is a fundamental OOP concept that allows a new class (child class) to inherit attributes and methods from an existing class (parent class). This promotes code reuse, hierarchical relationships, and extensibility.\n",
        "\n",
        "7. What is polymorphism in OOP?\n",
        "\n",
        "    -Polymorphism means \"many forms.\" It allows objects of different classes to be treated as objects of a common superclass. This enables methods to be used interchangeably, improving code flexibility and reusability.\n",
        "\n",
        "8. How is encapsulation achieved in Python?\n",
        "\n",
        "    -In Python, encapsulation is achieved through the use of classes and the control of access to the attributes (variables) and methods (functions) within those classes. It helps to hide the internal state and requires interaction through well-defined interfaces.\n",
        "\n",
        "9. What is a constructor in Python?\n",
        "\n",
        "    -A constructor in Python is a special method used to initialize objects when a class is instantiated. In Python, the constructor method is called __init__(). It allows you to set initial values for object attributes.\n",
        "\n",
        "10. What are class and static methods in Python?\n",
        "\n",
        "    -In Python, class methods and static methods are used to define methods that are not tied to a specific instance of a class. They are defined using the @classmethod and @staticmethod decorators.\n",
        "\n",
        "11. What is method overloading in Python?\n",
        "\n",
        "    -Method overloading is a concept where multiple methods in the same class have the same name but different numbers or types of parameters. Unlike some languages like Java or C++, Python does not support traditional method overloading directly. However, it can be achieved in Python using default arguments, *args, and **kwargs.\n",
        "\n",
        "12. What is method overriding in OOP?\n",
        "\n",
        "    -Method overriding is a feature in OOP that allows a subclass to provide a specific implementation of a method that is already defined in its parent class. The overridden method in the subclass must have the same name, return type, and parameters as the method in the parent class.\n",
        "\n",
        "13. What is a property decorator in Python?\n",
        "\n",
        "    -The property decorator in Python is used to define getter, setter, and deleter methods in a class, allowing controlled access to instance attributes. It makes a method act like an attribute, providing an elegant way to manage attribute access and validation\n",
        "\n",
        "14. Why is polymorphism important in OOP?\n",
        "\n",
        "    -Polymorphism is a fundamental concept in Object-Oriented Programming (OOP) that allows a single interface to represent different underlying forms (data types or classes). It enables objects of different classes to be treated as objects of a common superclass.\n",
        "\n",
        "15. What is an abstract class in Python?\n",
        "\n",
        "    -An abstract class in Python is a class that cannot be instantiated and serves as a blueprint for other classes. It defines methods that must be implemented by its subclasses. Abstract classes are useful when you want to enforce a certain structure in derived classes.\n",
        "\n",
        "    In Python, abstract classes are created using the ABC (Abstract Base Class) module.\n",
        "\n",
        "16.  What are the advantages of OOP?\n",
        "\n",
        "    -Object-Oriented Programming (OOP) is a programming paradigm that structures code around objects and classes, making software development more efficient, modular, and scalable. these are the advantages of oops.\n",
        "\n",
        "17. What is the difference between a class variable and an instance variable?\n",
        "\n",
        "    -Difference Between Class Variable and Instance Variable in Python:-\n",
        "  \n",
        "    .class variable:-\n",
        "    (1) Belongs to the class and is shared among all instances.\n",
        "    (2) Defined outside methods, directly inside the class.\n",
        "    (3) Shared by all objects of the class.\n",
        "    (4) Changing it affects all instances.\n",
        "\n",
        "    .instance variable:-\n",
        "    (1)Belongs to a specific instance of the class.\n",
        "    (2)Defined inside a method using self.\n",
        "    (3)Unique to each object.\n",
        "    (4)Changing it affects only that specific instance.\n",
        "\n",
        "18. What is multiple inheritance in Python?\n",
        "\n",
        "    -Multiple inheritance is a feature in Python where a class can inherit from more than one parent class. This allows a child class to combine the properties and behaviors of multiple parent classes.\n",
        "\n",
        "19. Explain the purpose of ‘’__str__’ and ‘__repr__’ ‘ methods in Python?\n",
        "\n",
        "    -In Python, both __str__ and __repr__ are special methods (dunder methods) that define how an object is represented as a string. However, they serve different purposes.\n",
        "\n",
        "20. What is the significance of the ‘super()’ function in Python?\n",
        "\n",
        "    -The super() function in Python is used to call a parent class method from a child class. It allows for method overriding while still being able to use the parent class's functionality.\n",
        "\n",
        "21. What is the significance of the __del__ method in Python?\n",
        "\n",
        "    -The __del__ method in Python is a special destructor method that is automatically called when an object is about to be destroyed.\n",
        "\n",
        "22. What is the difference between @staticmethod and @classmethod in Python?\n",
        "\n",
        "    -The difference between @staticmethod and @classmethod in Python are:-\n",
        "\n",
        "    . @staticmethod (Independent Method)\n",
        "\n",
        "    (1).A static method does not take the class (cls) or instance (self) as an\n",
        "    argument.\n",
        "    (2).It behaves like a regular function but belongs to the class.\n",
        "    (3.)Used when a method does not need access to instance or class attributes.\n",
        "\n",
        "    . @classmethod (Class-Level Method)\n",
        "\n",
        "    (1).A class method takes cls as the first argument, referring to the class itself.\n",
        "    (2).It can modify class-level attributes but cannot access instance-specific data.\n",
        "\n",
        "23. How does polymorphism work in Python with inheritance?\n",
        "\n",
        "    -Polymorphism in Python allows objects of different classes to be treated as objects of a common superclass. When used with inheritance, polymorphism enables subclasses to override methods of a parent class while maintaining a common interface.\n",
        "\n",
        "    .Method Overriding\n",
        "     A subclass provides a specific implementation of a method that is already defined in its superclass.\n",
        "\n",
        "    .Dynamic Method Resolution\n",
        "     When a method is called on an object, Python dynamically determines which version of the method to execute, based on the object's class.\n",
        "\n",
        "24. What is method chaining in Python OOP?\n",
        "\n",
        "    -Method chaining is a technique in Object-Oriented Programming (OOP) where multiple methods are called sequentially on the same object in a single statement. Each method in the chain returns the object itself (usually self), allowing further method calls to be linked.\n",
        "\n",
        "25. What is the purpose of the __call__ method in Python?\n",
        "\n",
        "    -The __call__ method allows an instance of a class to be called like a function. When defined inside a class, calling an instance executes the __call__ method.\n"
      ],
      "metadata": {
        "id": "3n2Red8UtatZ"
      }
    },
    {
      "cell_type": "markdown",
      "source": [
        "Practical Questions"
      ],
      "metadata": {
        "id": "07LNuH8rdNTZ"
      }
    },
    {
      "cell_type": "markdown",
      "source": [
        "1. Create a parent class Animal with a method speak() that prints a generic message. Create a child class Dog\n",
        "that overrides the speak() method to print \"Bark!\"."
      ],
      "metadata": {
        "id": "E7QgtzrPdIUN"
      }
    },
    {
      "cell_type": "code",
      "source": [
        " class Animal:\n",
        "    def speak(self):\n",
        "        print(\"This animal makes a sound.\")\n",
        "\n",
        "class Dog(Animal):\n",
        "    def speak(self):\n",
        "        print(\"Bark!\")\n",
        "\n",
        "# Example usage\n",
        "animal = Animal()\n",
        "animal.speak()  # Output: This animal makes a sound.\n",
        "\n",
        "dog = Dog()\n",
        "dog.speak()  # Output: Bark!\n"
      ],
      "metadata": {
        "colab": {
          "base_uri": "https://localhost:8080/"
        },
        "id": "2_r_WzxedKtD",
        "outputId": "ce3b6576-66be-4a84-a7a3-22ba7764dfab"
      },
      "execution_count": 8,
      "outputs": [
        {
          "output_type": "stream",
          "name": "stdout",
          "text": [
            "This animal makes a sound.\n",
            "Bark!\n"
          ]
        }
      ]
    },
    {
      "cell_type": "markdown",
      "source": [
        "2. Write a program to create an abstract class Shape with a method area(). Derive classes Circle and Rectangle\n",
        "from it and implement the area() method in both."
      ],
      "metadata": {
        "id": "xqNKMK-kdwZ5"
      }
    },
    {
      "cell_type": "code",
      "source": [
        "from abc import ABC, abstractmethod\n",
        "import math\n",
        "\n",
        "# Abstract class\n",
        "class Shape(ABC):\n",
        "    @abstractmethod\n",
        "    def area(self):\n",
        "        pass  # Abstract method, must be implemented by subclasses\n",
        "\n",
        "# Derived class: Circle\n",
        "class Circle(Shape):\n",
        "    def __init__(self, radius):\n",
        "        self.radius = radius\n",
        "\n",
        "    def area(self):\n",
        "        return math.pi * self.radius ** 2\n",
        "\n",
        "# Derived class: Rectangle\n",
        "class Rectangle(Shape):\n",
        "    def __init__(self, width, height):\n",
        "        self.width = width\n",
        "        self.height = height\n",
        "\n",
        "    def area(self):\n",
        "        return self.width * self.height\n",
        "\n",
        "# Example usage\n",
        "circle = Circle(5)\n",
        "rectangle = Rectangle(4, 6)\n",
        "\n",
        "print(f\"Circle Area: {circle.area():.2f}\")\n",
        "print(f\"Rectangle Area: {rectangle.area()}\")\n"
      ],
      "metadata": {
        "colab": {
          "base_uri": "https://localhost:8080/"
        },
        "id": "hOGS1Zcod07V",
        "outputId": "a47f3146-c673-461d-bc3f-60920a749b4b"
      },
      "execution_count": 7,
      "outputs": [
        {
          "output_type": "stream",
          "name": "stdout",
          "text": [
            "Circle Area: 78.54\n",
            "Rectangle Area: 24\n"
          ]
        }
      ]
    },
    {
      "cell_type": "markdown",
      "source": [
        "3. Implement a multi-level inheritance scenario where a class Vehicle has an attribute type. Derive a class Car\n",
        "and further derive a class ElectricCar that adds a battery attribute."
      ],
      "metadata": {
        "id": "j8kHKizCef9V"
      }
    },
    {
      "cell_type": "code",
      "source": [
        "# Base class\n",
        "class Vehicle:\n",
        "    def __init__(self, vehicle_type):\n",
        "        self.vehicle_type = vehicle_type\n",
        "\n",
        "    def show_type(self):\n",
        "        print(f\"Vehicle Type: {self.vehicle_type}\")\n",
        "\n",
        "# Derived class (inherits from Vehicle)\n",
        "class Car(Vehicle):\n",
        "    def __init__(self, brand, model, vehicle_type=\"Car\"):\n",
        "        super().__init__(vehicle_type)  # Call parent class constructor\n",
        "        self.brand = brand\n",
        "        self.model = model\n",
        "\n",
        "    def show_details(self):\n",
        "        print(f\"Car: {self.brand} {self.model}\")\n",
        "\n",
        "# Further derived class (inherits from Car)\n",
        "class ElectricCar(Car):\n",
        "    def __init__(self, brand, model, battery_capacity):\n",
        "        super().__init__(brand, model)  # Call Car constructor\n",
        "        self.battery_capacity = battery_capacity  # Additional attribute for ElectricCar\n",
        "\n",
        "    def show_battery(self):\n",
        "        print(f\"Battery Capacity: {self.battery_capacity} kWh\")\n",
        "\n",
        "# Example usage\n",
        "ecar = ElectricCar(\"Tesla\", \"Model 3\", 75)\n",
        "\n",
        "ecar.show_type()       # Output: Vehicle Type: Car\n",
        "ecar.show_details()    # Output: Car: Tesla Model 3\n",
        "ecar.show_battery()    # Output: Battery Capacity: 75 kWh\n"
      ],
      "metadata": {
        "colab": {
          "base_uri": "https://localhost:8080/"
        },
        "id": "NgboRXpCekAa",
        "outputId": "7ac8ee11-e1f3-409b-c979-97e955e89340"
      },
      "execution_count": 9,
      "outputs": [
        {
          "output_type": "stream",
          "name": "stdout",
          "text": [
            "Vehicle Type: Car\n",
            "Car: Tesla Model 3\n",
            "Battery Capacity: 75 kWh\n"
          ]
        }
      ]
    },
    {
      "cell_type": "markdown",
      "source": [
        "4. Demonstrate polymorphism by creating a base class Bird with a method fly(). Create two derived classes\n",
        "Sparrow and Penguin that override the fly() method.\n"
      ],
      "metadata": {
        "id": "9s_ep-tge0-q"
      }
    },
    {
      "cell_type": "code",
      "source": [
        "# Base class\n",
        "class Bird:\n",
        "    def fly(self):\n",
        "        print(\"Some birds can fly, some cannot.\")\n",
        "\n",
        "# Derived class: Sparrow (can fly)\n",
        "class Sparrow(Bird):\n",
        "    def fly(self):\n",
        "        print(\"Sparrow flies high in the sky!\")\n",
        "\n",
        "# Derived class: Penguin (cannot fly)\n",
        "class Penguin(Bird):\n",
        "    def fly(self):\n",
        "        print(\"Penguins cannot fly, but they swim well!\")\n",
        "\n",
        "# Function demonstrating polymorphism\n",
        "def show_flight_ability(bird):\n",
        "    bird.fly()\n",
        "\n",
        "# Example usage\n",
        "sparrow = Sparrow()\n",
        "penguin = Penguin()\n",
        "\n",
        "show_flight_ability(sparrow)  # Output: Sparrow flies high in the sky!\n",
        "show_flight_ability(penguin)  # Output: Penguins cannot fly, but they swim well!\n"
      ],
      "metadata": {
        "colab": {
          "base_uri": "https://localhost:8080/"
        },
        "id": "kLCUGLQ-e4tp",
        "outputId": "e8d05222-40e4-49f9-ddbb-db4e3d6cf81c"
      },
      "execution_count": 10,
      "outputs": [
        {
          "output_type": "stream",
          "name": "stdout",
          "text": [
            "Sparrow flies high in the sky!\n",
            "Penguins cannot fly, but they swim well!\n"
          ]
        }
      ]
    },
    {
      "cell_type": "markdown",
      "source": [
        "5. Write a program to demonstrate encapsulation by creating a class BankAccount with private attributes\n",
        "balance and methods to deposit, withdraw, and check balance."
      ],
      "metadata": {
        "id": "aQF2fHmhfBUT"
      }
    },
    {
      "cell_type": "code",
      "source": [
        "class BankAccount:\n",
        "    def __init__(self, account_holder, initial_balance=0):\n",
        "        self.account_holder = account_holder\n",
        "        self.__balance = initial_balance  # Private attribute\n",
        "\n",
        "    def deposit(self, amount):\n",
        "        if amount > 0:\n",
        "            self.__balance += amount\n",
        "            print(f\"Deposited {amount}. New balance: {self.__balance}\")\n",
        "        else:\n",
        "            print(\"Deposit amount must be positive.\")\n",
        "\n",
        "    def withdraw(self, amount):\n",
        "        if 0 < amount <= self.__balance:\n",
        "            self.__balance -= amount\n",
        "            print(f\"Withdrawn {amount}. Remaining balance: {self.__balance}\")\n",
        "        else:\n",
        "            print(\"Insufficient funds or invalid amount.\")\n",
        "\n",
        "    def check_balance(self):\n",
        "        print(f\"Account Balance: {self.__balance}\")\n",
        "\n",
        "# Example usage\n",
        "account = BankAccount(\"aman kumar\", 1000)\n",
        "\n",
        "account.deposit(500)       # Output: Deposited 500. New balance: 1500\n",
        "account.withdraw(300)      # Output: Withdrawn 300. Remaining balance: 1200\n",
        "account.check_balance()    # Output: Account Balance: 1200\n",
        "\n",
        "# Trying to access private attribute (will cause an error)\n",
        "# print(account.__balance)  # AttributeError: 'BankAccount' object has no attribute '__balance'\n"
      ],
      "metadata": {
        "colab": {
          "base_uri": "https://localhost:8080/"
        },
        "id": "CCIKNEsBfLjo",
        "outputId": "a293e83c-e9db-4a62-a77f-8e12a65fdb07"
      },
      "execution_count": 13,
      "outputs": [
        {
          "output_type": "stream",
          "name": "stdout",
          "text": [
            "Deposited 500. New balance: 1500\n",
            "Withdrawn 300. Remaining balance: 1200\n",
            "Account Balance: 1200\n"
          ]
        }
      ]
    },
    {
      "cell_type": "markdown",
      "source": [
        "6. Demonstrate runtime polymorphism using a method play() in a base class Instrument. Derive classes Guitar\n",
        "and Piano that implement their own version of play()."
      ],
      "metadata": {
        "id": "Er__h3k9f5r1"
      }
    },
    {
      "cell_type": "code",
      "source": [
        "# Base class\n",
        "class Instrument:\n",
        "    def play(self):\n",
        "        print(\"Playing an instrument...\")\n",
        "\n",
        "# Derived class: Guitar\n",
        "class Guitar(Instrument):\n",
        "    def play(self):\n",
        "        print(\"Strumming the guitar! 🎸\")\n",
        "\n",
        "# Derived class: Piano\n",
        "class Piano(Instrument):\n",
        "    def play(self):\n",
        "        print(\"Playing the piano! 🎹\")\n",
        "\n",
        "# Function demonstrating runtime polymorphism\n",
        "def perform(instrument):\n",
        "    instrument.play()\n",
        "\n",
        "# Example usage\n",
        "guitar = Guitar()\n",
        "piano = Piano()\n",
        "\n",
        "perform(guitar)  # Output: Strumming the guitar! 🎸\n",
        "perform(piano)   # Output: Playing the piano! 🎹\n"
      ],
      "metadata": {
        "colab": {
          "base_uri": "https://localhost:8080/"
        },
        "id": "Rw-JKRDhf9QW",
        "outputId": "debdddab-8c1c-4699-dd76-ace28937a547"
      },
      "execution_count": 14,
      "outputs": [
        {
          "output_type": "stream",
          "name": "stdout",
          "text": [
            "Strumming the guitar! 🎸\n",
            "Playing the piano! 🎹\n"
          ]
        }
      ]
    },
    {
      "cell_type": "markdown",
      "source": [
        "7. Create a class MathOperations with a class method add_numbers() to add two numbers and a static\n",
        "method subtract_numbers() to subtract two numbers."
      ],
      "metadata": {
        "id": "Zzv-_GWYgIgM"
      }
    },
    {
      "cell_type": "code",
      "source": [
        "class MathOperations:\n",
        "    @classmethod\n",
        "    def add_numbers(cls, a, b):\n",
        "        \"\"\"Class method to add two numbers.\"\"\"\n",
        "        return a + b\n",
        "\n",
        "    @staticmethod\n",
        "    def subtract_numbers(a, b):\n",
        "        \"\"\"Static method to subtract two numbers.\"\"\"\n",
        "        return a - b\n",
        "\n",
        "# Example usage\n",
        "print(MathOperations.add_numbers(10, 5))    # Output: 15\n",
        "print(MathOperations.subtract_numbers(10, 5))  # Output: 5\n"
      ],
      "metadata": {
        "colab": {
          "base_uri": "https://localhost:8080/"
        },
        "id": "D6qtu-bPgQCq",
        "outputId": "e326ef56-a0c7-46b5-f35c-00163abfb6d2"
      },
      "execution_count": 15,
      "outputs": [
        {
          "output_type": "stream",
          "name": "stdout",
          "text": [
            "15\n",
            "5\n"
          ]
        }
      ]
    },
    {
      "cell_type": "markdown",
      "source": [
        "8. Implement a class Person with a class method to count the total number of persons created.\n",
        "\n",
        "\n"
      ],
      "metadata": {
        "id": "rNDIjlZ_ggYt"
      }
    },
    {
      "cell_type": "code",
      "source": [
        "class Person:\n",
        "    count = 0  # Class attribute to track the number of persons\n",
        "\n",
        "    def __init__(self, name):\n",
        "        self.name = name\n",
        "        Person.count += 1  # Increment count when a new person is created\n",
        "\n",
        "    @classmethod\n",
        "    def total_persons(cls):\n",
        "        \"\"\"Class method to return the total number of persons created.\"\"\"\n",
        "        return cls.count\n",
        "\n",
        "# Example usage\n",
        "p1 = Person(\"antu😁\")\n",
        "p2 = Person(\"bakku🤣\")\n",
        "p3 = Person(\"akku😒\")\n",
        "\n",
        "print(f\"Total Persons Created: {Person.total_persons()}\")  # Output: Total Persons Created: 3\n"
      ],
      "metadata": {
        "colab": {
          "base_uri": "https://localhost:8080/"
        },
        "id": "z9_yWFHAgh1b",
        "outputId": "9ec99c6e-dc2c-47b5-9bae-2c57ce7c9d22"
      },
      "execution_count": 17,
      "outputs": [
        {
          "output_type": "stream",
          "name": "stdout",
          "text": [
            "Total Persons Created: 3\n"
          ]
        }
      ]
    },
    {
      "cell_type": "markdown",
      "source": [
        "9. Write a class Fraction with attributes numerator and denominator. Override the str method to display the\n",
        "fraction as \"numerator/denominator\"."
      ],
      "metadata": {
        "id": "CeUj0zz8hHQu"
      }
    },
    {
      "cell_type": "code",
      "source": [
        "class Fraction:\n",
        "    def __init__(self, numerator, denominator):\n",
        "        if denominator == 0:\n",
        "            raise ValueError(\"Denominator cannot be zero.\")\n",
        "        self.numerator = numerator\n",
        "        self.denominator = denominator\n",
        "\n",
        "    def __str__(self):\n",
        "        \"\"\"Override str() to display fraction in 'numerator/denominator' format.\"\"\"\n",
        "        return f\"{self.numerator}/{self.denominator}\"\n",
        "\n",
        "# Example usage\n",
        "f1 = Fraction(3, 4)\n",
        "f2 = Fraction(5, 8)\n",
        "\n",
        "print(f1)  # Output: 3/4\n",
        "print(f2)  # Output: 5/8\n"
      ],
      "metadata": {
        "colab": {
          "base_uri": "https://localhost:8080/"
        },
        "id": "gyJ9rqbFhMOB",
        "outputId": "4cc1923a-e227-4546-9121-b16cfc6f5aa7"
      },
      "execution_count": 18,
      "outputs": [
        {
          "output_type": "stream",
          "name": "stdout",
          "text": [
            "3/4\n",
            "5/8\n"
          ]
        }
      ]
    },
    {
      "cell_type": "markdown",
      "source": [
        "10. Demonstrate operator overloading by creating a class Vector and overriding the add method to add two\n",
        "vectors"
      ],
      "metadata": {
        "id": "l1HbaynrhcMr"
      }
    },
    {
      "cell_type": "code",
      "source": [
        "class Vector:\n",
        "    def __init__(self, x, y):\n",
        "        self.x = x\n",
        "        self.y = y\n",
        "\n",
        "    def __add__(self, other):\n",
        "        \"\"\"Overload the + operator to add two vectors.\"\"\"\n",
        "        if isinstance(other, Vector):\n",
        "            return Vector(self.x + other.x, self.y + other.y)\n",
        "        raise TypeError(\"Operand must be of type Vector\")\n",
        "\n",
        "    def __str__(self):\n",
        "        \"\"\"Override str() to display vector in (x, y) format.\"\"\"\n",
        "        return f\"({self.x}, {self.y})\"\n",
        "\n",
        "# Example usage\n",
        "v1 = Vector(2, 3)\n",
        "v2 = Vector(4, 5)\n",
        "v3 = v1 + v2  # Calls v1.__add__(v2)\n",
        "\n",
        "print(f\"v1: {v1}\")  # Output: v1: (2, 3)\n",
        "print(f\"v2: {v2}\")  # Output: v2: (4, 5)\n",
        "print(f\"v1 + v2: {v3}\")  # Output: v1 + v2: (6, 8)\n"
      ],
      "metadata": {
        "colab": {
          "base_uri": "https://localhost:8080/"
        },
        "id": "j281iTJzhhZr",
        "outputId": "5240b31c-6be4-4e61-af2f-7dd10535115f"
      },
      "execution_count": 19,
      "outputs": [
        {
          "output_type": "stream",
          "name": "stdout",
          "text": [
            "v1: (2, 3)\n",
            "v2: (4, 5)\n",
            "v1 + v2: (6, 8)\n"
          ]
        }
      ]
    },
    {
      "cell_type": "markdown",
      "source": [
        "11. Create a class Person with attributes name and age. Add a method greet() that prints \"Hello, my name is\n",
        "{name} and I am {age} years old."
      ],
      "metadata": {
        "id": "vtRgCQtshunD"
      }
    },
    {
      "cell_type": "code",
      "source": [
        "class Person:\n",
        "    def __init__(self, name, age):\n",
        "        self.name = name\n",
        "        self.age = age\n",
        "\n",
        "    def greet(self):\n",
        "        \"\"\"Prints a greeting message with the person's name and age.\"\"\"\n",
        "        print(f\"Hello, my name is {self.name} and I am {self.age} years old.\")\n",
        "\n",
        "# Example usage\n",
        "p1 = Person(\"Aman kumar\", 21)\n",
        "p2 = Person(\"akku\", 22)\n",
        "\n",
        "p1.greet()  # Output: Hello, my name is Aman kumar and I am 21 years old.\n",
        "p2.greet()  # Output: Hello, my name is akku and I am 22 years old.\n"
      ],
      "metadata": {
        "colab": {
          "base_uri": "https://localhost:8080/"
        },
        "id": "CvJtjex9h1qx",
        "outputId": "d3b95b78-2249-406e-d92e-3e6d3c5f8d6c"
      },
      "execution_count": 21,
      "outputs": [
        {
          "output_type": "stream",
          "name": "stdout",
          "text": [
            "Hello, my name is Aman kumar and I am 21 years old.\n",
            "Hello, my name is akku and I am 22 years old.\n"
          ]
        }
      ]
    },
    {
      "cell_type": "markdown",
      "source": [
        "12. Implement a class Student with attributes name and grades. Create a method average_grade() to compute\n",
        "the average of the grades."
      ],
      "metadata": {
        "id": "gRdSKw7AigM9"
      }
    },
    {
      "cell_type": "code",
      "source": [
        "class Student:\n",
        "    def __init__(self, name, grades):\n",
        "        self.name = name\n",
        "        self.grades = grades  # List of grades\n",
        "\n",
        "    def average_grade(self):\n",
        "        \"\"\"Computes and returns the average of the grades.\"\"\"\n",
        "        if not self.grades:\n",
        "            return 0  # Return 0 if no grades are available\n",
        "        return sum(self.grades) / len(self.grades)\n",
        "\n",
        "    def display_info(self):\n",
        "        \"\"\"Displays student information and average grade.\"\"\"\n",
        "        avg = self.average_grade()\n",
        "        print(f\"Student: {self.name}, Average Grade: {avg:.2f}\")\n",
        "\n",
        "# Example usage\n",
        "s1 = Student(\"Aman\", [85, 90, 78, 92])\n",
        "s2 = Student(\"chaman\", [88, 76, 95])\n",
        "\n",
        "s1.display_info()  # Output: Student: Aman, Average Grade: 86.25\n",
        "s2.display_info()  # Output: Student: chaman, Average Grade: 86.33\n"
      ],
      "metadata": {
        "colab": {
          "base_uri": "https://localhost:8080/"
        },
        "id": "bG9vWRdiikTV",
        "outputId": "154432f8-cc29-4271-f6e9-3fe6a145af02"
      },
      "execution_count": 23,
      "outputs": [
        {
          "output_type": "stream",
          "name": "stdout",
          "text": [
            "Student: Aman, Average Grade: 86.25\n",
            "Student: chaman, Average Grade: 86.33\n"
          ]
        }
      ]
    },
    {
      "cell_type": "markdown",
      "source": [
        "13. Create a class Rectangle with methods set_dimensions() to set the dimensions and area() to calculate the\n",
        "area."
      ],
      "metadata": {
        "id": "a1iO4jXKi5iR"
      }
    },
    {
      "cell_type": "code",
      "source": [
        "class Rectangle:\n",
        "    def __init__(self, length=1, width=1):\n",
        "        self.length = length\n",
        "        self.width = width\n",
        "\n",
        "    def set_dimensions(self, length, width):\n",
        "        \"\"\"Sets the dimensions of the rectangle.\"\"\"\n",
        "        if length > 0 and width > 0:\n",
        "            self.length = length\n",
        "            self.width = width\n",
        "        else:\n",
        "            print(\"Length and width must be positive values.\")\n",
        "\n",
        "    def area(self):\n",
        "        \"\"\"Calculates and returns the area of the rectangle.\"\"\"\n",
        "        return self.length * self.width\n",
        "\n",
        "    def display_info(self):\n",
        "        \"\"\"Displays the dimensions and area of the rectangle.\"\"\"\n",
        "        print(f\"Rectangle: Length={self.length}, Width={self.width}, Area={self.area()}\")\n",
        "\n",
        "# Example usage\n",
        "r1 = Rectangle()\n",
        "r1.display_info()  # Default values: Output -> Rectangle: Length=1, Width=1, Area=1\n",
        "\n",
        "r1.set_dimensions(5, 10)\n",
        "r1.display_info()  # Output -> Rectangle: Length=5, Width=10, Area=50\n"
      ],
      "metadata": {
        "colab": {
          "base_uri": "https://localhost:8080/"
        },
        "id": "7zioZ6h0i-Xk",
        "outputId": "df0f5c6a-87b5-40df-9b75-0e33eded801f"
      },
      "execution_count": 24,
      "outputs": [
        {
          "output_type": "stream",
          "name": "stdout",
          "text": [
            "Rectangle: Length=1, Width=1, Area=1\n",
            "Rectangle: Length=5, Width=10, Area=50\n"
          ]
        }
      ]
    },
    {
      "cell_type": "markdown",
      "source": [
        "14. Create a class Employee with a method calculate_salary() that computes the salary based on hours worked\n",
        "and hourly rate. Create a derived class Manager that adds a bonus to the salary."
      ],
      "metadata": {
        "id": "JyZ8S96ijJpl"
      }
    },
    {
      "cell_type": "code",
      "source": [
        "class Employee:\n",
        "    def __init__(self, name, hours_worked, hourly_rate):\n",
        "        self.name = name\n",
        "        self.hours_worked = hours_worked\n",
        "        self.hourly_rate = hourly_rate\n",
        "\n",
        "    def calculate_salary(self):\n",
        "        \"\"\"Computes salary based on hours worked and hourly rate.\"\"\"\n",
        "        return self.hours_worked * self.hourly_rate\n",
        "\n",
        "    def display_info(self):\n",
        "        \"\"\"Displays employee details and salary.\"\"\"\n",
        "        print(f\"Employee: {self.name}, Salary: {self.calculate_salary():.2f}\")\n",
        "\n",
        "# Derived class: Manager (adds a bonus)\n",
        "class Manager(Employee):\n",
        "    def __init__(self, name, hours_worked, hourly_rate, bonus):\n",
        "        super().__init__(name, hours_worked, hourly_rate)\n",
        "        self.bonus = bonus\n",
        "\n",
        "    def calculate_salary(self):\n",
        "        \"\"\"Computes salary with an additional bonus for managers.\"\"\"\n",
        "        return super().calculate_salary() + self.bonus\n",
        "\n",
        "# Example usage\n",
        "e1 = Employee(\"anshu\", 40, 20)  # 40 hours, 20/hr\n",
        "m1 = Manager(\"ajay\", 40, 30, 500)  # 40 hours, 30/hr, 500 bonus\n",
        "\n",
        "e1.display_info()  # Output: Employee: anshu, Salary: 800.00\n",
        "m1.display_info()  # Output: Employee: ajay, Salary: 1700.00\n"
      ],
      "metadata": {
        "colab": {
          "base_uri": "https://localhost:8080/"
        },
        "id": "GMVrviUrjOaH",
        "outputId": "bffbe3a7-008d-418d-9452-e669d1b86598"
      },
      "execution_count": 27,
      "outputs": [
        {
          "output_type": "stream",
          "name": "stdout",
          "text": [
            "Employee: anshu, Salary: 800.00\n",
            "Employee: ajay, Salary: 1700.00\n"
          ]
        }
      ]
    },
    {
      "cell_type": "markdown",
      "source": [
        "15. Create a class Product with attributes name, price, and quantity. Implement a method total_price() that\n",
        "calculates the total price of the product."
      ],
      "metadata": {
        "id": "qQaSQf9GkYI4"
      }
    },
    {
      "cell_type": "code",
      "source": [
        "class Product:\n",
        "    def __init__(self, name, price, quantity):\n",
        "        self.name = name\n",
        "        self.price = price\n",
        "        self.quantity = quantity\n",
        "\n",
        "    def total_price(self):\n",
        "        \"\"\"Calculates and returns the total price of the product.\"\"\"\n",
        "        return self.price * self.quantity\n",
        "\n",
        "    def display_info(self):\n",
        "        \"\"\"Displays product details and total price.\"\"\"\n",
        "        print(f\"Product: {self.name}, Unit Price: {self.price:.2f}, Quantity: {self.quantity}, Total Price: {self.total_price():.2f}\")\n",
        "\n",
        "# Example usage\n",
        "p1 = Product(\"Laptop\", 800, 2)\n",
        "p2 = Product(\"Smartphone\", 500, 3)\n",
        "\n",
        "p1.display_info()  # Output: Product: Laptop, Unit Price: 800.00, Quantity: 2, Total Price: 1600.00\n",
        "p2.display_info()  # Output: Product: Smartphone, Unit Price: 500.00, Quantity: 3, Total Price: 1500.00\n"
      ],
      "metadata": {
        "colab": {
          "base_uri": "https://localhost:8080/"
        },
        "id": "IseXkBq6kf3D",
        "outputId": "acbf5304-e323-4800-8231-7ba02ba53911"
      },
      "execution_count": 29,
      "outputs": [
        {
          "output_type": "stream",
          "name": "stdout",
          "text": [
            "Product: Laptop, Unit Price: 800.00, Quantity: 2, Total Price: 1600.00\n",
            "Product: Smartphone, Unit Price: 500.00, Quantity: 3, Total Price: 1500.00\n"
          ]
        }
      ]
    },
    {
      "cell_type": "markdown",
      "source": [
        "16. Create a class Animal with an abstract method sound(). Create two derived classes Cow and Sheep that\n",
        "implement the sound() method."
      ],
      "metadata": {
        "id": "lm_Qwsu1k80s"
      }
    },
    {
      "cell_type": "code",
      "source": [
        "from abc import ABC, abstractmethod\n",
        "\n",
        "# Abstract Base Class\n",
        "class Animal(ABC):\n",
        "    @abstractmethod\n",
        "    def sound(self):\n",
        "        \"\"\"Abstract method to be implemented by subclasses.\"\"\"\n",
        "        pass\n",
        "\n",
        "# Derived class: Cow\n",
        "class Cow(Animal):\n",
        "    def sound(self):\n",
        "        return \"Moo!\"\n",
        "\n",
        "# Derived class: Sheep\n",
        "class Sheep(Animal):\n",
        "    def sound(self):\n",
        "        return \"Baa!\"\n",
        "\n",
        "# Example usage\n",
        "cow = Cow()\n",
        "sheep = Sheep()\n",
        "\n",
        "print(f\"Cow: {cow.sound()}\")    # Output: Cow: Moo!\n",
        "print(f\"Sheep: {sheep.sound()}\")  # Output: Sheep: Baa!\n"
      ],
      "metadata": {
        "colab": {
          "base_uri": "https://localhost:8080/"
        },
        "id": "vuaG7JRAlDNb",
        "outputId": "76d2b7a5-72d9-4c99-bb8f-68fab050f73a"
      },
      "execution_count": 30,
      "outputs": [
        {
          "output_type": "stream",
          "name": "stdout",
          "text": [
            "Cow: Moo!\n",
            "Sheep: Baa!\n"
          ]
        }
      ]
    },
    {
      "cell_type": "markdown",
      "source": [
        "17. Create a class Book with attributes title, author, and year_published. Add a method get_book_info() that\n",
        "returns a formatted string with the book's details."
      ],
      "metadata": {
        "id": "0nBS1ipXlWHJ"
      }
    },
    {
      "cell_type": "code",
      "source": [
        "class Book:\n",
        "    def __init__(self, title, author, year_published):\n",
        "        self.title = title\n",
        "        self.author = author\n",
        "        self.year_published = year_published\n",
        "\n",
        "    def get_book_info(self):\n",
        "        \"\"\"Returns a formatted string with the book's details.\"\"\"\n",
        "        return f\"'{self.title}' by {self.author}, published in {self.year_published}.\"\n",
        "\n",
        "# Example usage\n",
        "book1 = Book(\"To Kill a Mockingbird\", \"Harper Lee\", 1960)\n",
        "book2 = Book(\"1984\", \"George Orwell\", 1949)\n",
        "\n",
        "print(book1.get_book_info())  # Output: 'To Kill a Mockingbird' by Harper Lee, published in 1960.\n",
        "print(book2.get_book_info())  # Output: '1984' by George Orwell, published in 1949.\n"
      ],
      "metadata": {
        "colab": {
          "base_uri": "https://localhost:8080/"
        },
        "id": "yo4iMH_Nlejr",
        "outputId": "32c09bc0-8075-4e17-dc44-afc8bd3fe3d9"
      },
      "execution_count": 31,
      "outputs": [
        {
          "output_type": "stream",
          "name": "stdout",
          "text": [
            "'To Kill a Mockingbird' by Harper Lee, published in 1960.\n",
            "'1984' by George Orwell, published in 1949.\n"
          ]
        }
      ]
    },
    {
      "cell_type": "markdown",
      "source": [
        "18. Create a class House with attributes address and price. Create a derived class Mansion that adds an\n",
        "attribute number_of_rooms."
      ],
      "metadata": {
        "id": "Us7OaS9ZltT3"
      }
    },
    {
      "cell_type": "code",
      "source": [
        "class House:\n",
        "    def __init__(self, address, price):\n",
        "        self.address = address\n",
        "        self.price = price\n",
        "\n",
        "    def display_info(self):\n",
        "        \"\"\"Displays house details.\"\"\"\n",
        "        print(f\"Address: {self.address}, Price: {self.price:,}\")\n",
        "\n",
        "# Derived class: Mansion (adds number_of_rooms)\n",
        "class Mansion(House):\n",
        "    def __init__(self, address, price, number_of_rooms):\n",
        "        super().__init__(address, price)\n",
        "        self.number_of_rooms = number_of_rooms\n",
        "\n",
        "    def display_info(self):\n",
        "        \"\"\"Displays mansion details including number of rooms.\"\"\"\n",
        "        print(f\"Address: {self.address}, Price: {self.price:,}, Rooms: {self.number_of_rooms}\")\n",
        "\n",
        "# Example usage\n",
        "house = House(\"123 Maple Street\", 250000)\n",
        "mansion = Mansion(\"456 Luxury Lane\", 5000000, 12)\n",
        "\n",
        "house.display_info()  # Output: Address: 123 Maple Street, Price: 250,000\n",
        "mansion.display_info()  # Output: Address: 456 Luxury Lane, Price: 5,000,000, Rooms: 12\n"
      ],
      "metadata": {
        "colab": {
          "base_uri": "https://localhost:8080/"
        },
        "id": "1X2p2J6Ll61r",
        "outputId": "58371115-5f1e-4bc0-e1dd-7a9cd78ee3a2"
      },
      "execution_count": 32,
      "outputs": [
        {
          "output_type": "stream",
          "name": "stdout",
          "text": [
            "Address: 123 Maple Street, Price: 250,000\n",
            "Address: 456 Luxury Lane, Price: 5,000,000, Rooms: 12\n"
          ]
        }
      ]
    }
  ]
}